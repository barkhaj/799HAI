{
 "cells": [
  {
   "cell_type": "markdown",
   "metadata": {
    "id": "QPYLmAm2y374"
   },
   "source": [
    "#### [My GitHub link](https://github.com/barkhaj/799HAIWK1)!\n",
    "\n",
    "Welcome to your assignment this week! \n",
    "\n",
    "\n",
    "# Classification task\n",
    "In this task you are asked to build a simple Feed Forward Neural Network, train it and test it!\n",
    "\n",
    "\n",
    "**After this assignment you will be able to:**\n",
    "\n",
    "- Load a dataset.\n",
    "- Train a Feed Forward Neural Network.\n",
    "- Test a Feed Forward Neural Network.\n",
    "\n",
    "Let's get started! Run the following cell to install all the packages you will need."
   ]
  },
  {
   "cell_type": "code",
   "execution_count": 1,
   "metadata": {
    "id": "MwVJpPoAy374"
   },
   "outputs": [],
   "source": [
    "#!pip install numpy\n",
    "#!pip install keras\n",
    "#!pip install tensorflow\n",
    "#!pip install pandas\n",
    "#!pip install matplotlib\n",
    "#!pip install nbconvert"
   ]
  },
  {
   "cell_type": "markdown",
   "metadata": {
    "id": "x67z_R3_y375"
   },
   "source": [
    "Run the following cell to load the packages you will need."
   ]
  },
  {
   "cell_type": "code",
   "execution_count": 2,
   "metadata": {
    "id": "0K67BsATy375"
   },
   "outputs": [],
   "source": [
    "import numpy as np # linear algebra\n",
    "import pandas as pd # data processing, CSV file I/O (e.g. pd.read_csv)\n",
    "from sklearn.model_selection import train_test_split\n",
    "import matplotlib.pyplot as plt\n",
    "import keras\n",
    "from keras.models import Sequential\n",
    "from keras.layers import Dense\n",
    "\n",
    "#performance evaluation\n",
    "from sklearn.metrics import accuracy_score\n",
    "from sklearn.metrics import precision_score\n",
    "from sklearn.metrics import recall_score\n",
    "from sklearn.metrics import f1_score"
   ]
  },
  {
   "cell_type": "markdown",
   "metadata": {
    "id": "wiJC_sYzy375"
   },
   "source": [
    "The dataset we will use consists of 4500 examples with 512 features. A label is given for each example to indicate positive and negative instances.\n",
    "\n",
    "Let's read the data."
   ]
  },
  {
   "cell_type": "code",
   "execution_count": 3,
   "metadata": {
    "id": "Ltzm-RMuy376"
   },
   "outputs": [
    {
     "name": "stdout",
     "output_type": "stream",
     "text": [
      "(4500, 513)\n",
      "         v1       v2       v3       v4       v5       v6       v7       v8  \\\n",
      "id                                                                           \n",
      "1   0.37797 -0.94808  0.01346  0.17893  0.37795  0.63571  0.13943 -0.25607   \n",
      "2   0.07609 -0.09774  0.39666 -0.39026  0.10606  0.52774  0.07105  0.33720   \n",
      "3   1.19391 -0.68707 -0.68422 -0.36378 -0.60847 -0.40118  1.45432  0.00592   \n",
      "4   1.34949 -0.31498 -1.30248  0.50278  1.66292 -1.06094 -0.70835 -0.24237   \n",
      "5  -0.03512 -0.34196  0.14230  1.50513 -0.14364  0.49429  0.07823 -0.04356   \n",
      "\n",
      "         v9      v10  ...     v504     v505     v506     v507     v508  \\\n",
      "id                    ...                                                \n",
      "1  -0.39341  1.08947  ... -0.03494  1.32443 -0.94570  0.02055 -1.23908   \n",
      "2   0.69917 -0.02842  ...  0.86624 -1.24953 -0.21511 -1.54146  1.04765   \n",
      "3   1.68940 -0.98205  ... -0.35893  0.02330  0.31548 -0.34923 -0.41772   \n",
      "4  -0.15509 -0.04532  ...  0.23942  0.20774  0.81792 -0.74814 -0.62521   \n",
      "5   0.42009 -0.88828  ... -1.78407  0.07465  1.50182 -0.41289 -0.55908   \n",
      "\n",
      "       v509     v510     v511     v512  label  \n",
      "id                                             \n",
      "1   0.43507  1.08635  1.69027  0.61609      0  \n",
      "2  -1.24035  0.00866 -1.27640 -0.60496      1  \n",
      "3  -0.58175 -0.60177  0.43555  0.41982      1  \n",
      "4   0.01689  0.83997 -0.46986  0.06755      0  \n",
      "5  -0.29702  0.83641  0.59756 -0.20298      0  \n",
      "\n",
      "[5 rows x 513 columns]\n"
     ]
    }
   ],
   "source": [
    "df = pd.read_csv('data.csv')\n",
    "df.set_index('id', inplace=True)\n",
    "\n",
    "\n",
    "print(df.shape)\n",
    "print(df.head(5))"
   ]
  },
  {
   "cell_type": "markdown",
   "metadata": {
    "id": "NnCcO3a6y377"
   },
   "source": [
    "Now, let's split the data into training and test sets."
   ]
  },
  {
   "cell_type": "code",
   "execution_count": 4,
   "metadata": {
    "id": "7WUzliVZy377"
   },
   "outputs": [
    {
     "name": "stdout",
     "output_type": "stream",
     "text": [
      "Dataset \n",
      " (4500, 514)\n",
      "         v1       v2       v3       v4       v5       v6       v7       v8  \\\n",
      "id                                                                           \n",
      "1   0.37797 -0.94808  0.01346  0.17893  0.37795  0.63571  0.13943 -0.25607   \n",
      "2   0.07609 -0.09774  0.39666 -0.39026  0.10606  0.52774  0.07105  0.33720   \n",
      "3   1.19391 -0.68707 -0.68422 -0.36378 -0.60847 -0.40118  1.45432  0.00592   \n",
      "4   1.34949 -0.31498 -1.30248  0.50278  1.66292 -1.06094 -0.70835 -0.24237   \n",
      "5  -0.03512 -0.34196  0.14230  1.50513 -0.14364  0.49429  0.07823 -0.04356   \n",
      "\n",
      "         v9      v10  ...     v505     v506     v507     v508     v509  \\\n",
      "id                    ...                                                \n",
      "1  -0.39341  1.08947  ...  1.32443 -0.94570  0.02055 -1.23908  0.43507   \n",
      "2   0.69917 -0.02842  ... -1.24953 -0.21511 -1.54146  1.04765 -1.24035   \n",
      "3   1.68940 -0.98205  ...  0.02330  0.31548 -0.34923 -0.41772 -0.58175   \n",
      "4  -0.15509 -0.04532  ...  0.20774  0.81792 -0.74814 -0.62521  0.01689   \n",
      "5   0.42009 -0.88828  ...  0.07465  1.50182 -0.41289 -0.55908 -0.29702   \n",
      "\n",
      "       v510     v511     v512  label  data_type  \n",
      "id                                               \n",
      "1   1.08635  1.69027  0.61609      0      train  \n",
      "2   0.00866 -1.27640 -0.60496      1      train  \n",
      "3  -0.60177  0.43555  0.41982      1      train  \n",
      "4   0.83997 -0.46986  0.06755      0       test  \n",
      "5   0.83641  0.59756 -0.20298      0      train  \n",
      "\n",
      "[5 rows x 514 columns]\n",
      "X_train\n",
      " (3825, 512)\n",
      "X_test \n",
      " (675, 512)\n"
     ]
    }
   ],
   "source": [
    "X_train, X_test, y_train, y_test = train_test_split(\n",
    "    df.index.values,\n",
    "    df.label.values,\n",
    "    test_size=0.15,\n",
    "    random_state=17,\n",
    "    stratify=df.label.values\n",
    ")\n",
    "df['data_type'] = ['note_set']*df.shape[0]\n",
    "df.loc[X_train, 'data_type'] = 'train'\n",
    "df.loc[X_test, 'data_type'] = 'test'\n",
    "\n",
    "#Examine dataset\n",
    "print(\"Dataset \\n\",df.shape)\n",
    "print(df.head(5))\n",
    "\n",
    "\n",
    "## The data to use:\n",
    "X_train = df[df['data_type']=='train'].iloc[:,:512].values\n",
    "X_test = df[df['data_type']=='test'].iloc[:,:512].values\n",
    "y_train = df[df['data_type']=='train'].iloc[:,512:513].values\n",
    "y_test = df[df['data_type']=='test'].iloc[:,512:513].values\n",
    "\n",
    "\n",
    "#Examine training and test data\n",
    "print(\"X_train\\n\",X_train.shape)\n",
    "print(\"X_test \\n\",X_test.shape)"
   ]
  },
  {
   "cell_type": "markdown",
   "metadata": {
    "id": "0Ga4DGNTy377"
   },
   "source": [
    "# Task 1\n",
    "\n",
    "Build a Feed Forward Neural Network to address this classification task using the Keras framework."
   ]
  },
  {
   "cell_type": "code",
   "execution_count": 5,
   "metadata": {
    "id": "i8d-psy2y378"
   },
   "outputs": [],
   "source": [
    "# Build the model\n",
    "model = Sequential([\n",
    "  Dense(12, activation='relu', input_shape=(512,)),\n",
    "  Dense(64, activation='relu'),\n",
    "  Dense(1, activation='sigmoid'),\n",
    "])\n",
    "\n",
    "# Compile the model\n",
    "model.compile(\n",
    "  optimizer='adam',\n",
    "  loss='binary_crossentropy',\n",
    "  metrics=['accuracy'],\n",
    ")\n"
   ]
  },
  {
   "cell_type": "markdown",
   "metadata": {
    "id": "xwfUGs9Ty378"
   },
   "source": [
    "# Training\n",
    "\n",
    "Now, let's start our training."
   ]
  },
  {
   "cell_type": "code",
   "execution_count": 6,
   "metadata": {
    "id": "Fn7fPEvTy378"
   },
   "outputs": [
    {
     "name": "stdout",
     "output_type": "stream",
     "text": [
      "Epoch 1/200\n",
      "60/60 [==============================] - 1s 2ms/step - loss: 0.6232 - accuracy: 0.6268\n",
      "Epoch 2/200\n",
      "60/60 [==============================] - 0s 2ms/step - loss: 0.2877 - accuracy: 0.8785\n",
      "Epoch 3/200\n",
      "60/60 [==============================] - 0s 659us/step - loss: 0.0824 - accuracy: 0.9867\n",
      "Epoch 4/200\n",
      "60/60 [==============================] - 0s 642us/step - loss: 0.0261 - accuracy: 0.9963\n",
      "Epoch 5/200\n",
      "60/60 [==============================] - 0s 643us/step - loss: 0.0099 - accuracy: 0.9992\n",
      "Epoch 6/200\n",
      "60/60 [==============================] - 0s 626us/step - loss: 0.0055 - accuracy: 0.9999\n",
      "Epoch 7/200\n",
      "60/60 [==============================] - 0s 609us/step - loss: 0.0038 - accuracy: 1.0000\n",
      "Epoch 8/200\n",
      "60/60 [==============================] - 0s 617us/step - loss: 0.0022 - accuracy: 1.0000\n",
      "Epoch 9/200\n",
      "60/60 [==============================] - 0s 606us/step - loss: 0.0015 - accuracy: 1.0000\n",
      "Epoch 10/200\n",
      "60/60 [==============================] - 0s 625us/step - loss: 0.0012 - accuracy: 1.0000\n",
      "Epoch 11/200\n",
      "60/60 [==============================] - 0s 628us/step - loss: 0.0011 - accuracy: 1.0000\n",
      "Epoch 12/200\n",
      "60/60 [==============================] - 0s 609us/step - loss: 7.0545e-04 - accuracy: 1.0000\n",
      "Epoch 13/200\n",
      "60/60 [==============================] - 0s 609us/step - loss: 6.6492e-04 - accuracy: 1.0000\n",
      "Epoch 14/200\n",
      "60/60 [==============================] - 0s 625us/step - loss: 5.0062e-04 - accuracy: 1.0000\n",
      "Epoch 15/200\n",
      "60/60 [==============================] - 0s 641us/step - loss: 4.2113e-04 - accuracy: 1.0000\n",
      "Epoch 16/200\n",
      "60/60 [==============================] - 0s 611us/step - loss: 3.8081e-04 - accuracy: 1.0000\n",
      "Epoch 17/200\n",
      "60/60 [==============================] - 0s 648us/step - loss: 3.1600e-04 - accuracy: 1.0000\n",
      "Epoch 18/200\n",
      "60/60 [==============================] - 0s 628us/step - loss: 2.6348e-04 - accuracy: 1.0000\n",
      "Epoch 19/200\n",
      "60/60 [==============================] - 0s 625us/step - loss: 2.4897e-04 - accuracy: 1.0000\n",
      "Epoch 20/200\n",
      "60/60 [==============================] - 0s 625us/step - loss: 2.1370e-04 - accuracy: 1.0000\n",
      "Epoch 21/200\n",
      "60/60 [==============================] - 0s 610us/step - loss: 1.6019e-04 - accuracy: 1.0000\n",
      "Epoch 22/200\n",
      "60/60 [==============================] - 0s 625us/step - loss: 1.6400e-04 - accuracy: 1.0000\n",
      "Epoch 23/200\n",
      "60/60 [==============================] - 0s 609us/step - loss: 1.4051e-04 - accuracy: 1.0000\n",
      "Epoch 24/200\n",
      "60/60 [==============================] - 0s 625us/step - loss: 1.2437e-04 - accuracy: 1.0000\n",
      "Epoch 25/200\n",
      "60/60 [==============================] - 0s 608us/step - loss: 1.1625e-04 - accuracy: 1.0000\n",
      "Epoch 26/200\n",
      "60/60 [==============================] - 0s 610us/step - loss: 1.0978e-04 - accuracy: 1.0000\n",
      "Epoch 27/200\n",
      "60/60 [==============================] - 0s 625us/step - loss: 1.0149e-04 - accuracy: 1.0000\n",
      "Epoch 28/200\n",
      "60/60 [==============================] - 0s 608us/step - loss: 9.0923e-05 - accuracy: 1.0000\n",
      "Epoch 29/200\n",
      "60/60 [==============================] - 0s 659us/step - loss: 8.4390e-05 - accuracy: 1.0000\n",
      "Epoch 30/200\n",
      "60/60 [==============================] - 0s 641us/step - loss: 7.7339e-05 - accuracy: 1.0000\n",
      "Epoch 31/200\n",
      "60/60 [==============================] - 0s 627us/step - loss: 7.3212e-05 - accuracy: 1.0000\n",
      "Epoch 32/200\n",
      "60/60 [==============================] - 0s 642us/step - loss: 6.4416e-05 - accuracy: 1.0000\n",
      "Epoch 33/200\n",
      "60/60 [==============================] - 0s 644us/step - loss: 5.7163e-05 - accuracy: 1.0000\n",
      "Epoch 34/200\n",
      "60/60 [==============================] - 0s 609us/step - loss: 5.3253e-05 - accuracy: 1.0000\n",
      "Epoch 35/200\n",
      "60/60 [==============================] - 0s 677us/step - loss: 4.8936e-05 - accuracy: 1.0000\n",
      "Epoch 36/200\n",
      "60/60 [==============================] - 0s 630us/step - loss: 4.6912e-05 - accuracy: 1.0000\n",
      "Epoch 37/200\n",
      "60/60 [==============================] - 0s 642us/step - loss: 4.4161e-05 - accuracy: 1.0000\n",
      "Epoch 38/200\n",
      "60/60 [==============================] - 0s 647us/step - loss: 4.0206e-05 - accuracy: 1.0000\n",
      "Epoch 39/200\n",
      "60/60 [==============================] - 0s 626us/step - loss: 3.8976e-05 - accuracy: 1.0000\n",
      "Epoch 40/200\n",
      "60/60 [==============================] - 0s 625us/step - loss: 3.7309e-05 - accuracy: 1.0000\n",
      "Epoch 41/200\n",
      "60/60 [==============================] - 0s 626us/step - loss: 3.4348e-05 - accuracy: 1.0000\n",
      "Epoch 42/200\n",
      "60/60 [==============================] - 0s 625us/step - loss: 3.0388e-05 - accuracy: 1.0000\n",
      "Epoch 43/200\n",
      "60/60 [==============================] - 0s 625us/step - loss: 3.1126e-05 - accuracy: 1.0000\n",
      "Epoch 44/200\n",
      "60/60 [==============================] - 0s 644us/step - loss: 2.5001e-05 - accuracy: 1.0000\n",
      "Epoch 45/200\n",
      "60/60 [==============================] - 0s 625us/step - loss: 2.4625e-05 - accuracy: 1.0000\n",
      "Epoch 46/200\n",
      "60/60 [==============================] - 0s 625us/step - loss: 2.4075e-05 - accuracy: 1.0000\n",
      "Epoch 47/200\n",
      "60/60 [==============================] - 0s 609us/step - loss: 2.3338e-05 - accuracy: 1.0000\n",
      "Epoch 48/200\n",
      "60/60 [==============================] - 0s 625us/step - loss: 2.0668e-05 - accuracy: 1.0000\n",
      "Epoch 49/200\n",
      "60/60 [==============================] - 0s 642us/step - loss: 2.0876e-05 - accuracy: 1.0000\n",
      "Epoch 50/200\n",
      "60/60 [==============================] - 0s 626us/step - loss: 2.1216e-05 - accuracy: 1.0000\n",
      "Epoch 51/200\n",
      "60/60 [==============================] - 0s 632us/step - loss: 1.9865e-05 - accuracy: 1.0000\n",
      "Epoch 52/200\n",
      "60/60 [==============================] - 0s 645us/step - loss: 1.6788e-05 - accuracy: 1.0000\n",
      "Epoch 53/200\n",
      "60/60 [==============================] - 0s 625us/step - loss: 1.7890e-05 - accuracy: 1.0000\n",
      "Epoch 54/200\n",
      "60/60 [==============================] - 0s 627us/step - loss: 1.5590e-05 - accuracy: 1.0000\n",
      "Epoch 55/200\n",
      "60/60 [==============================] - 0s 609us/step - loss: 1.5411e-05 - accuracy: 1.0000\n",
      "Epoch 56/200\n",
      "60/60 [==============================] - 0s 625us/step - loss: 1.4703e-05 - accuracy: 1.0000\n",
      "Epoch 57/200\n",
      "60/60 [==============================] - 0s 626us/step - loss: 1.3878e-05 - accuracy: 1.0000\n",
      "Epoch 58/200\n",
      "60/60 [==============================] - 0s 644us/step - loss: 1.2375e-05 - accuracy: 1.0000\n",
      "Epoch 59/200\n",
      "60/60 [==============================] - 0s 625us/step - loss: 1.2883e-05 - accuracy: 1.0000\n",
      "Epoch 60/200\n",
      "60/60 [==============================] - 0s 625us/step - loss: 1.2172e-05 - accuracy: 1.0000\n",
      "Epoch 61/200\n",
      "60/60 [==============================] - 0s 633us/step - loss: 1.0848e-05 - accuracy: 1.0000\n",
      "Epoch 62/200\n",
      "60/60 [==============================] - 0s 625us/step - loss: 9.7905e-06 - accuracy: 1.0000\n",
      "Epoch 63/200\n",
      "60/60 [==============================] - 0s 627us/step - loss: 9.6422e-06 - accuracy: 1.0000\n",
      "Epoch 64/200\n",
      "60/60 [==============================] - 0s 643us/step - loss: 9.1601e-06 - accuracy: 1.0000\n",
      "Epoch 65/200\n",
      "60/60 [==============================] - 0s 625us/step - loss: 8.6935e-06 - accuracy: 1.0000\n",
      "Epoch 66/200\n",
      "60/60 [==============================] - 0s 626us/step - loss: 8.5016e-06 - accuracy: 1.0000\n",
      "Epoch 67/200\n",
      "60/60 [==============================] - 0s 642us/step - loss: 8.0811e-06 - accuracy: 1.0000\n",
      "Epoch 68/200\n",
      "60/60 [==============================] - 0s 609us/step - loss: 7.5345e-06 - accuracy: 1.0000\n",
      "Epoch 69/200\n",
      "60/60 [==============================] - 0s 642us/step - loss: 7.3946e-06 - accuracy: 1.0000\n",
      "Epoch 70/200\n",
      "60/60 [==============================] - 0s 642us/step - loss: 7.2909e-06 - accuracy: 1.0000\n",
      "Epoch 71/200\n",
      "60/60 [==============================] - 0s 625us/step - loss: 7.0890e-06 - accuracy: 1.0000\n",
      "Epoch 72/200\n",
      "60/60 [==============================] - 0s 625us/step - loss: 6.8228e-06 - accuracy: 1.0000\n",
      "Epoch 73/200\n",
      "60/60 [==============================] - 0s 624us/step - loss: 5.9209e-06 - accuracy: 1.0000\n",
      "Epoch 74/200\n",
      "60/60 [==============================] - 0s 625us/step - loss: 6.4409e-06 - accuracy: 1.0000\n",
      "Epoch 75/200\n",
      "60/60 [==============================] - 0s 625us/step - loss: 5.6566e-06 - accuracy: 1.0000\n",
      "Epoch 76/200\n",
      "60/60 [==============================] - 0s 625us/step - loss: 5.3850e-06 - accuracy: 1.0000\n",
      "Epoch 77/200\n",
      "60/60 [==============================] - 0s 625us/step - loss: 5.6520e-06 - accuracy: 1.0000\n",
      "Epoch 78/200\n"
     ]
    },
    {
     "name": "stdout",
     "output_type": "stream",
     "text": [
      "60/60 [==============================] - 0s 629us/step - loss: 4.8617e-06 - accuracy: 1.0000\n",
      "Epoch 79/200\n",
      "60/60 [==============================] - 0s 627us/step - loss: 4.6248e-06 - accuracy: 1.0000\n",
      "Epoch 80/200\n",
      "60/60 [==============================] - 0s 642us/step - loss: 4.6597e-06 - accuracy: 1.0000\n",
      "Epoch 81/200\n",
      "60/60 [==============================] - 0s 629us/step - loss: 4.6175e-06 - accuracy: 1.0000\n",
      "Epoch 82/200\n",
      "60/60 [==============================] - 0s 642us/step - loss: 3.9866e-06 - accuracy: 1.0000\n",
      "Epoch 83/200\n",
      "60/60 [==============================] - 0s 627us/step - loss: 4.4298e-06 - accuracy: 1.0000\n",
      "Epoch 84/200\n",
      "60/60 [==============================] - 0s 642us/step - loss: 4.0796e-06 - accuracy: 1.0000\n",
      "Epoch 85/200\n",
      "60/60 [==============================] - 0s 625us/step - loss: 3.7088e-06 - accuracy: 1.0000\n",
      "Epoch 86/200\n",
      "60/60 [==============================] - 0s 625us/step - loss: 3.7729e-06 - accuracy: 1.0000\n",
      "Epoch 87/200\n",
      "60/60 [==============================] - 0s 625us/step - loss: 3.5332e-06 - accuracy: 1.0000\n",
      "Epoch 88/200\n",
      "60/60 [==============================] - 0s 627us/step - loss: 3.6059e-06 - accuracy: 1.0000\n",
      "Epoch 89/200\n",
      "60/60 [==============================] - 0s 642us/step - loss: 3.5246e-06 - accuracy: 1.0000\n",
      "Epoch 90/200\n",
      "60/60 [==============================] - 0s 629us/step - loss: 3.0681e-06 - accuracy: 1.0000\n",
      "Epoch 91/200\n",
      "60/60 [==============================] - 0s 642us/step - loss: 2.9536e-06 - accuracy: 1.0000\n",
      "Epoch 92/200\n",
      "60/60 [==============================] - 0s 625us/step - loss: 2.6585e-06 - accuracy: 1.0000\n",
      "Epoch 93/200\n",
      "60/60 [==============================] - 0s 626us/step - loss: 2.6723e-06 - accuracy: 1.0000\n",
      "Epoch 94/200\n",
      "60/60 [==============================] - 0s 642us/step - loss: 2.4947e-06 - accuracy: 1.0000\n",
      "Epoch 95/200\n",
      "60/60 [==============================] - 0s 659us/step - loss: 2.4205e-06 - accuracy: 1.0000\n",
      "Epoch 96/200\n",
      "60/60 [==============================] - 0s 625us/step - loss: 2.4822e-06 - accuracy: 1.0000\n",
      "Epoch 97/200\n",
      "60/60 [==============================] - 0s 642us/step - loss: 2.6105e-06 - accuracy: 1.0000\n",
      "Epoch 98/200\n",
      "60/60 [==============================] - 0s 627us/step - loss: 2.1846e-06 - accuracy: 1.0000\n",
      "Epoch 99/200\n",
      "60/60 [==============================] - 0s 626us/step - loss: 2.1766e-06 - accuracy: 1.0000\n",
      "Epoch 100/200\n",
      "60/60 [==============================] - 0s 642us/step - loss: 2.0686e-06 - accuracy: 1.0000\n",
      "Epoch 101/200\n",
      "60/60 [==============================] - 0s 643us/step - loss: 1.9592e-06 - accuracy: 1.0000\n",
      "Epoch 102/200\n",
      "60/60 [==============================] - 0s 625us/step - loss: 2.0218e-06 - accuracy: 1.0000\n",
      "Epoch 103/200\n",
      "60/60 [==============================] - 0s 642us/step - loss: 1.9104e-06 - accuracy: 1.0000\n",
      "Epoch 104/200\n",
      "60/60 [==============================] - 0s 625us/step - loss: 1.7623e-06 - accuracy: 1.0000\n",
      "Epoch 105/200\n",
      "60/60 [==============================] - 0s 625us/step - loss: 1.6203e-06 - accuracy: 1.0000\n",
      "Epoch 106/200\n",
      "60/60 [==============================] - 0s 642us/step - loss: 1.6606e-06 - accuracy: 1.0000\n",
      "Epoch 107/200\n",
      "60/60 [==============================] - 0s 642us/step - loss: 1.5311e-06 - accuracy: 1.0000\n",
      "Epoch 108/200\n",
      "60/60 [==============================] - 0s 642us/step - loss: 1.4919e-06 - accuracy: 1.0000\n",
      "Epoch 109/200\n",
      "60/60 [==============================] - 0s 642us/step - loss: 1.5756e-06 - accuracy: 1.0000\n",
      "Epoch 110/200\n",
      "60/60 [==============================] - 0s 642us/step - loss: 1.4579e-06 - accuracy: 1.0000\n",
      "Epoch 111/200\n",
      "60/60 [==============================] - 0s 625us/step - loss: 1.3156e-06 - accuracy: 1.0000\n",
      "Epoch 112/200\n",
      "60/60 [==============================] - 0s 644us/step - loss: 1.3131e-06 - accuracy: 1.0000\n",
      "Epoch 113/200\n",
      "60/60 [==============================] - 0s 627us/step - loss: 1.3375e-06 - accuracy: 1.0000\n",
      "Epoch 114/200\n",
      "60/60 [==============================] - 0s 642us/step - loss: 1.3842e-06 - accuracy: 1.0000\n",
      "Epoch 115/200\n",
      "60/60 [==============================] - 0s 643us/step - loss: 1.1680e-06 - accuracy: 1.0000\n",
      "Epoch 116/200\n",
      "60/60 [==============================] - 0s 627us/step - loss: 1.0759e-06 - accuracy: 1.0000\n",
      "Epoch 117/200\n",
      "60/60 [==============================] - 0s 654us/step - loss: 1.0292e-06 - accuracy: 1.0000\n",
      "Epoch 118/200\n",
      "60/60 [==============================] - 0s 641us/step - loss: 1.1421e-06 - accuracy: 1.0000\n",
      "Epoch 119/200\n",
      "60/60 [==============================] - 0s 625us/step - loss: 9.9986e-07 - accuracy: 1.0000\n",
      "Epoch 120/200\n",
      "60/60 [==============================] - 0s 659us/step - loss: 8.8412e-07 - accuracy: 1.0000\n",
      "Epoch 121/200\n",
      "60/60 [==============================] - 0s 625us/step - loss: 9.8455e-07 - accuracy: 1.0000\n",
      "Epoch 122/200\n",
      "60/60 [==============================] - 0s 642us/step - loss: 9.5233e-07 - accuracy: 1.0000\n",
      "Epoch 123/200\n",
      "60/60 [==============================] - 0s 639us/step - loss: 8.0379e-07 - accuracy: 1.0000\n",
      "Epoch 124/200\n",
      "60/60 [==============================] - 0s 627us/step - loss: 8.6673e-07 - accuracy: 1.0000\n",
      "Epoch 125/200\n",
      "60/60 [==============================] - 0s 645us/step - loss: 7.3041e-07 - accuracy: 1.0000\n",
      "Epoch 126/200\n",
      "60/60 [==============================] - 0s 645us/step - loss: 7.9562e-07 - accuracy: 1.0000\n",
      "Epoch 127/200\n",
      "60/60 [==============================] - 0s 616us/step - loss: 6.6847e-07 - accuracy: 1.0000\n",
      "Epoch 128/200\n",
      "60/60 [==============================] - 0s 643us/step - loss: 6.9003e-07 - accuracy: 1.0000\n",
      "Epoch 129/200\n",
      "60/60 [==============================] - 0s 625us/step - loss: 6.7099e-07 - accuracy: 1.0000\n",
      "Epoch 130/200\n",
      "60/60 [==============================] - 0s 609us/step - loss: 6.5076e-07 - accuracy: 1.0000\n",
      "Epoch 131/200\n",
      "60/60 [==============================] - 0s 644us/step - loss: 6.4913e-07 - accuracy: 1.0000\n",
      "Epoch 132/200\n",
      "60/60 [==============================] - 0s 636us/step - loss: 6.1292e-07 - accuracy: 1.0000\n",
      "Epoch 133/200\n",
      "60/60 [==============================] - 0s 625us/step - loss: 5.9264e-07 - accuracy: 1.0000\n",
      "Epoch 134/200\n",
      "60/60 [==============================] - 0s 642us/step - loss: 5.8822e-07 - accuracy: 1.0000\n",
      "Epoch 135/200\n",
      "60/60 [==============================] - 0s 625us/step - loss: 4.8951e-07 - accuracy: 1.0000\n",
      "Epoch 136/200\n",
      "60/60 [==============================] - 0s 663us/step - loss: 5.2198e-07 - accuracy: 1.0000\n",
      "Epoch 137/200\n",
      "60/60 [==============================] - 0s 644us/step - loss: 5.0092e-07 - accuracy: 1.0000\n",
      "Epoch 138/200\n",
      "60/60 [==============================] - 0s 643us/step - loss: 4.4851e-07 - accuracy: 1.0000\n",
      "Epoch 139/200\n",
      "60/60 [==============================] - 0s 659us/step - loss: 5.1813e-07 - accuracy: 1.0000\n",
      "Epoch 140/200\n",
      "60/60 [==============================] - 0s 710us/step - loss: 4.6383e-07 - accuracy: 1.0000\n",
      "Epoch 141/200\n",
      "60/60 [==============================] - 0s 712us/step - loss: 4.3429e-07 - accuracy: 1.0000\n",
      "Epoch 142/200\n",
      "60/60 [==============================] - 0s 681us/step - loss: 4.3989e-07 - accuracy: 1.0000\n",
      "Epoch 143/200\n",
      "60/60 [==============================] - 0s 677us/step - loss: 4.3145e-07 - accuracy: 1.0000\n",
      "Epoch 144/200\n",
      "60/60 [==============================] - 0s 645us/step - loss: 3.9592e-07 - accuracy: 1.0000\n",
      "Epoch 145/200\n",
      "60/60 [==============================] - 0s 695us/step - loss: 3.7998e-07 - accuracy: 1.0000\n",
      "Epoch 146/200\n",
      "60/60 [==============================] - 0s 642us/step - loss: 3.5211e-07 - accuracy: 1.0000\n",
      "Epoch 147/200\n",
      "60/60 [==============================] - 0s 678us/step - loss: 4.0418e-07 - accuracy: 1.0000\n",
      "Epoch 148/200\n",
      "60/60 [==============================] - 0s 633us/step - loss: 3.3343e-07 - accuracy: 1.0000\n",
      "Epoch 149/200\n",
      "60/60 [==============================] - 0s 677us/step - loss: 3.2518e-07 - accuracy: 1.0000\n",
      "Epoch 150/200\n",
      "60/60 [==============================] - 0s 642us/step - loss: 3.2858e-07 - accuracy: 1.0000\n",
      "Epoch 151/200\n",
      "60/60 [==============================] - 0s 642us/step - loss: 2.6962e-07 - accuracy: 1.0000\n",
      "Epoch 152/200\n",
      "60/60 [==============================] - 0s 659us/step - loss: 3.0953e-07 - accuracy: 1.0000\n",
      "Epoch 153/200\n",
      "60/60 [==============================] - 0s 645us/step - loss: 2.8293e-07 - accuracy: 1.0000\n",
      "Epoch 154/200\n"
     ]
    },
    {
     "name": "stdout",
     "output_type": "stream",
     "text": [
      "60/60 [==============================] - 0s 659us/step - loss: 2.8456e-07 - accuracy: 1.0000\n",
      "Epoch 155/200\n",
      "60/60 [==============================] - 0s 659us/step - loss: 2.7389e-07 - accuracy: 1.0000\n",
      "Epoch 156/200\n",
      "60/60 [==============================] - 0s 659us/step - loss: 2.4648e-07 - accuracy: 1.0000\n",
      "Epoch 157/200\n",
      "60/60 [==============================] - 0s 693us/step - loss: 2.5299e-07 - accuracy: 1.0000\n",
      "Epoch 158/200\n",
      "60/60 [==============================] - 0s 1ms/step - loss: 2.4331e-07 - accuracy: 1.0000\n",
      "Epoch 159/200\n",
      "60/60 [==============================] - 0s 705us/step - loss: 2.4195e-07 - accuracy: 1.0000\n",
      "Epoch 160/200\n",
      "60/60 [==============================] - 0s 727us/step - loss: 2.4471e-07 - accuracy: 1.0000\n",
      "Epoch 161/200\n",
      "60/60 [==============================] - 0s 659us/step - loss: 2.0848e-07 - accuracy: 1.0000\n",
      "Epoch 162/200\n",
      "60/60 [==============================] - 0s 662us/step - loss: 2.1603e-07 - accuracy: 1.0000\n",
      "Epoch 163/200\n",
      "60/60 [==============================] - 0s 659us/step - loss: 2.0766e-07 - accuracy: 1.0000\n",
      "Epoch 164/200\n",
      "60/60 [==============================] - 0s 663us/step - loss: 2.0461e-07 - accuracy: 1.0000\n",
      "Epoch 165/200\n",
      "60/60 [==============================] - 0s 661us/step - loss: 1.7668e-07 - accuracy: 1.0000\n",
      "Epoch 166/200\n",
      "60/60 [==============================] - 0s 659us/step - loss: 1.6750e-07 - accuracy: 1.0000\n",
      "Epoch 167/200\n",
      "60/60 [==============================] - 0s 660us/step - loss: 1.7730e-07 - accuracy: 1.0000\n",
      "Epoch 168/200\n",
      "60/60 [==============================] - 0s 643us/step - loss: 1.5920e-07 - accuracy: 1.0000\n",
      "Epoch 169/200\n",
      "60/60 [==============================] - 0s 659us/step - loss: 1.6066e-07 - accuracy: 1.0000\n",
      "Epoch 170/200\n",
      "60/60 [==============================] - 0s 659us/step - loss: 1.7020e-07 - accuracy: 1.0000\n",
      "Epoch 171/200\n",
      "60/60 [==============================] - 0s 661us/step - loss: 1.5382e-07 - accuracy: 1.0000\n",
      "Epoch 172/200\n",
      "60/60 [==============================] - 0s 659us/step - loss: 1.4077e-07 - accuracy: 1.0000\n",
      "Epoch 173/200\n",
      "60/60 [==============================] - 0s 642us/step - loss: 1.5747e-07 - accuracy: 1.0000\n",
      "Epoch 174/200\n",
      "60/60 [==============================] - 0s 654us/step - loss: 1.3655e-07 - accuracy: 1.0000\n",
      "Epoch 175/200\n",
      "60/60 [==============================] - 0s 642us/step - loss: 1.3915e-07 - accuracy: 1.0000\n",
      "Epoch 176/200\n",
      "60/60 [==============================] - 0s 662us/step - loss: 1.3213e-07 - accuracy: 1.0000\n",
      "Epoch 177/200\n",
      "60/60 [==============================] - 0s 644us/step - loss: 1.2844e-07 - accuracy: 1.0000\n",
      "Epoch 178/200\n",
      "60/60 [==============================] - 0s 644us/step - loss: 1.2323e-07 - accuracy: 1.0000\n",
      "Epoch 179/200\n",
      "60/60 [==============================] - 0s 642us/step - loss: 1.1524e-07 - accuracy: 1.0000\n",
      "Epoch 180/200\n",
      "60/60 [==============================] - 0s 659us/step - loss: 1.0749e-07 - accuracy: 1.0000\n",
      "Epoch 181/200\n",
      "60/60 [==============================] - 0s 680us/step - loss: 1.1374e-07 - accuracy: 1.0000\n",
      "Epoch 182/200\n",
      "60/60 [==============================] - 0s 661us/step - loss: 1.0617e-07 - accuracy: 1.0000\n",
      "Epoch 183/200\n",
      "60/60 [==============================] - 0s 659us/step - loss: 1.0196e-07 - accuracy: 1.0000\n",
      "Epoch 184/200\n",
      "60/60 [==============================] - 0s 661us/step - loss: 9.6783e-08 - accuracy: 1.0000\n",
      "Epoch 185/200\n",
      "60/60 [==============================] - 0s 660us/step - loss: 9.8489e-08 - accuracy: 1.0000\n",
      "Epoch 186/200\n",
      "60/60 [==============================] - 0s 627us/step - loss: 8.4797e-08 - accuracy: 1.0000\n",
      "Epoch 187/200\n",
      "60/60 [==============================] - 0s 658us/step - loss: 8.8211e-08 - accuracy: 1.0000\n",
      "Epoch 188/200\n",
      "60/60 [==============================] - 0s 679us/step - loss: 8.6236e-08 - accuracy: 1.0000\n",
      "Epoch 189/200\n",
      "60/60 [==============================] - 0s 680us/step - loss: 8.0528e-08 - accuracy: 1.0000\n",
      "Epoch 190/200\n",
      "60/60 [==============================] - 0s 661us/step - loss: 7.6199e-08 - accuracy: 1.0000\n",
      "Epoch 191/200\n",
      "60/60 [==============================] - 0s 642us/step - loss: 7.2479e-08 - accuracy: 1.0000\n",
      "Epoch 192/200\n",
      "60/60 [==============================] - 0s 666us/step - loss: 7.5208e-08 - accuracy: 1.0000\n",
      "Epoch 193/200\n",
      "60/60 [==============================] - 0s 642us/step - loss: 6.9545e-08 - accuracy: 1.0000\n",
      "Epoch 194/200\n",
      "60/60 [==============================] - 0s 679us/step - loss: 7.3950e-08 - accuracy: 1.0000\n",
      "Epoch 195/200\n",
      "60/60 [==============================] - 0s 642us/step - loss: 7.8086e-08 - accuracy: 1.0000\n",
      "Epoch 196/200\n",
      "60/60 [==============================] - 0s 646us/step - loss: 6.7422e-08 - accuracy: 1.0000\n",
      "Epoch 197/200\n",
      "60/60 [==============================] - 0s 658us/step - loss: 6.3025e-08 - accuracy: 1.0000\n",
      "Epoch 198/200\n",
      "60/60 [==============================] - 0s 646us/step - loss: 5.8112e-08 - accuracy: 1.0000\n",
      "Epoch 199/200\n",
      "60/60 [==============================] - 0s 659us/step - loss: 5.7299e-08 - accuracy: 1.0000\n",
      "Epoch 200/200\n",
      "60/60 [==============================] - 0s 642us/step - loss: 5.8648e-08 - accuracy: 1.0000\n"
     ]
    }
   ],
   "source": [
    "history = model.fit(X_train, y_train, epochs=200, batch_size=64, verbose=1)"
   ]
  },
  {
   "cell_type": "code",
   "execution_count": 7,
   "metadata": {
    "id": "IMYgz8nAy378"
   },
   "outputs": [
    {
     "data": {
      "image/png": "[encoded data removed]",
      "text/plain": [
       "<Figure size 432x288 with 1 Axes>"
      ]
     },
     "metadata": {
      "needs_background": "light"
     },
     "output_type": "display_data"
    },
    {
     "data": {
      "image/png": "[encoded data removed]",
      "text/plain": [
       "<Figure size 432x288 with 1 Axes>"
      ]
     },
     "metadata": {
      "needs_background": "light"
     },
     "output_type": "display_data"
    }
   ],
   "source": [
    "acc = history.history['accuracy']\n",
    "loss = history.history['loss']\n",
    "epochs = range(len(acc))\n",
    "plt.plot(epochs, acc, 'b', label='Training accuracy')\n",
    "plt.title('Training accuracy')\n",
    "plt.figure()\n",
    "plt.plot(epochs, loss, 'b', label='Training Loss')\n",
    "plt.title('Training loss')\n",
    "plt.legend()\n",
    "plt.show()"
   ]
  },
  {
   "cell_type": "markdown",
   "metadata": {
    "id": "ewyOTi3Ay378"
   },
   "source": [
    "# Task 2\n",
    "\n",
    "Test the model on the test set and report Precision, Recall, F1-Score, and Accuracy."
   ]
  },
  {
   "cell_type": "code",
   "execution_count": 8,
   "metadata": {
    "id": "f7IzXUJBy379"
   },
   "outputs": [
    {
     "name": "stdout",
     "output_type": "stream",
     "text": [
      "Precision: 0.990741\n",
      "Recall: 1.000000\n",
      "F1 score: 0.995349\n",
      "Accuracy: 0.994074\n"
     ]
    }
   ],
   "source": [
    "\n",
    "y_pred = (model.predict(X_test) > 0.5).astype(\"int32\")\n",
    "#print(y_pred)\n",
    "\n",
    "# reduce to 1d array\n",
    "y_pred = y_pred[:, 0]\n",
    "#print(y_pred)\n",
    "\n",
    "#Precision\n",
    "precision = precision_score(y_test, y_pred)\n",
    "print('Precision: %f' % precision)\n",
    "\n",
    "# Recall\n",
    "recall = recall_score(y_test, y_pred)\n",
    "print('Recall: %f' % recall)\n",
    "\n",
    "# F1-Score\n",
    "f1 = f1_score(y_test, y_pred)\n",
    "print('F1 score: %f' % f1)\n",
    "\n",
    "\n",
    "#Accuracy\n",
    "accuracy = accuracy_score(y_test, y_pred)\n",
    "print('Accuracy: %f' % accuracy)"
   ]
  },
  {
   "cell_type": "markdown",
   "metadata": {},
   "source": [
    "Export your notebook to a pdf document"
   ]
  },
  {
   "cell_type": "code",
   "execution_count": 9,
   "metadata": {},
   "outputs": [
    {
     "name": "stderr",
     "output_type": "stream",
     "text": [
      "[NbConvertApp] Converting notebook Task1_3C_Classification_using_FFNN_Submit.ipynb to pdf\n",
      "[NbConvertApp] Support files will be in Task1_3C_Classification_using_FFNN_Submit_files\\\n",
      "[NbConvertApp] Making directory .\\Task1_3C_Classification_using_FFNN_Submit_files\n",
      "[NbConvertApp] Making directory .\\Task1_3C_Classification_using_FFNN_Submit_files\n",
      "[NbConvertApp] Writing 58924 bytes to notebook.tex\n",
      "[NbConvertApp] Building PDF\n",
      "[NbConvertApp] Running xelatex 3 times: ['xelatex', 'notebook.tex', '-quiet']\n",
      "[NbConvertApp] Running bibtex 1 time: ['bibtex', 'notebook']\n",
      "[NbConvertApp] WARNING | b had problems, most likely because there were no citations\n",
      "[NbConvertApp] PDF successfully created\n",
      "[NbConvertApp] Writing 75305 bytes to Task1_3C_Classification_using_FFNN_Submit.pdf\n"
     ]
    }
   ],
   "source": [
    "!jupyter nbconvert Task1_3C_Classification_using_FFNN_Submit.ipynb --to pdf"
   ]
  },
  {
   "cell_type": "markdown",
   "metadata": {
    "id": "E6vau2ijy379"
   },
   "source": [
    "# Congratulations!\n",
    "\n",
    "You've come to the end of this assignment, and you have built your first neural network. \n",
    "\n",
    "Congratulations on finishing this notebook! \n",
    "\n"
   ]
  },
  {
   "cell_type": "markdown",
   "metadata": {},
   "source": [
    "### References\n",
    "\n",
    "Brownlee J (2019) ['How to Calculate Precision, Recall, F1, and More for Deep Learning Models'](https://machinelearningmastery.com/how-to-calculate-precision-recall-f1-and-more-for-deep-learning-models), Deep Learning, Machine Learning Mastery, post Mar 29, accessed 28 July 2021\n",
    "\n",
    "Brownlee J (2019) ['Your First Deep Learning Project in Python with Keras Step-By-Step'](https://machinelearningmastery.com/tutorial-first-neural-network-python-keras/), Deep Learning, Machine Learning Mastery, post Jul 24, accessed 27 July 2021\n",
    "\n",
    "Zhou V (2019), ['Keras for Beginners: Building Your First Neural Network'](https://victorzhou.com/blog/keras-neural-network-tutorial/), accessed 26 July 2021\n"
   ]
  }
 ],
 "metadata": {
  "colab": {
   "name": "1.3C - Classification using FFNN.ipynb",
   "provenance": []
  },
  "coursera": {
   "course_slug": "nlp-sequence-models",
   "graded_item_id": "8hb5s",
   "launcher_item_id": "5NrJ6"
  },
  "kernelspec": {
   "display_name": "Python 3",
   "language": "python",
   "name": "python3"
  },
  "language_info": {
   "codemirror_mode": {
    "name": "ipython",
    "version": 3
   },
   "file_extension": ".py",
   "mimetype": "text/x-python",
   "name": "python",
   "nbconvert_exporter": "python",
   "pygments_lexer": "ipython3",
   "version": "3.6.13"
  },
  "latex_envs": {
   "LaTeX_envs_menu_present": true,
   "autoclose": false,
   "autocomplete": true,
   "bibliofile": "biblio.bib",
   "cite_by": "apalike",
   "current_citInitial": 1,
   "eqLabelWithNumbers": true,
   "eqNumInitial": 1,
   "hotkeys": {
    "equation": "Ctrl-E",
    "itemize": "Ctrl-I"
   },
   "labels_anchors": false,
   "latex_user_defs": false,
   "report_style_numbering": false,
   "user_envs_cfg": false
  },
  "toc": {
   "base_numbering": 1,
   "nav_menu": {},
   "number_sections": true,
   "sideBar": true,
   "skip_h1_title": false,
   "title_cell": "Table of Contents",
   "title_sidebar": "Contents",
   "toc_cell": false,
   "toc_position": {},
   "toc_section_display": true,
   "toc_window_display": false
  }
 },
 "nbformat": 4,
 "nbformat_minor": 1
}
